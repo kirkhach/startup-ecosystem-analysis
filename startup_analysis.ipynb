{
 "cells": [
  {
   "cell_type": "markdown",
   "metadata": {},
   "source": [
    "### Tentative Plan"
   ]
  },
  {
   "cell_type": "markdown",
   "metadata": {},
   "source": [
    "• Decide on how to break down categorical variables  -DONE 5/17<br> \n",
    "    • Convert categorical variables to dummy variables -DONE 5/17<br>\n",
    "• Linear regression for valuation <br>\n",
    "• Test for hidden counfounders? <br>\n",
    "• Refit without large p-values or fit lasso regression for better model <br>\n",
    "• Create labels for companies based on valuation size -DONE 5/18<br>\n",
    "• Use logistic regression to classify based on labels -DONE 5/18<br>\n",
    "• Decide on which funding series to use for funding amounts  https://support.crunchbase.com/hc/en-us/articles/115010458467-Glossary-of-Funding-Types <br>\n",
    "• Split data into different models for each series <br>\n",
    "• Run linear regression to see what factors are most important for funding amount at each series"
   ]
  },
  {
   "cell_type": "markdown",
   "metadata": {},
   "source": [
    "### Imports"
   ]
  },
  {
   "cell_type": "code",
   "execution_count": 219,
   "metadata": {},
   "outputs": [],
   "source": [
    "import pandas as pd\n",
    "import numpy as np\n",
    "import matplotlib.pyplot as plt\n",
    "import requests\n",
    "import io\n",
    "from scipy.stats import mode\n",
    "import statsmodels.api as sm\n",
    "from sklearn.model_selection import train_test_split\n",
    "from sklearn.linear_model import LogisticRegression\n",
    "import seaborn as sns\n",
    "from sklearn import metrics\n",
    "from sklearn.ensemble import BaggingClassifier"
   ]
  },
  {
   "cell_type": "markdown",
   "metadata": {},
   "source": [
    "### Loading data"
   ]
  },
  {
   "cell_type": "code",
   "execution_count": 2,
   "metadata": {},
   "outputs": [
    {
     "name": "stderr",
     "output_type": "stream",
     "text": [
      "/Library/Frameworks/Python.framework/Versions/3.7/lib/python3.7/site-packages/IPython/core/interactiveshell.py:3156: DtypeWarning: Columns (3,7,9,10,17,18,21,22,23,25,26,29,30,37) have mixed types.Specify dtype option on import or set low_memory=False.\n",
      "  interactivity=interactivity, compiler=compiler, result=result)\n"
     ]
    }
   ],
   "source": [
    "#accessing data via github\n",
    "url1 = \"https://raw.githubusercontent.com/kirkhach/startup-ecosystem-analysis/main/data/acquisitions.csv\"\n",
    "download1 = requests.get(url1).content\n",
    "url2 = \"https://raw.githubusercontent.com/kirkhach/startup-ecosystem-analysis/main/data/degrees.csv\"\n",
    "download2 = requests.get(url2).content\n",
    "url3 = \"https://raw.githubusercontent.com/kirkhach/startup-ecosystem-analysis/main/data/funding_rounds.csv\"\n",
    "download3 = requests.get(url3).content\n",
    "url4 = \"https://raw.githubusercontent.com/kirkhach/startup-ecosystem-analysis/main/data/funds.csv\"\n",
    "download4 = requests.get(url4).content\n",
    "url5 = \"https://raw.githubusercontent.com/kirkhach/startup-ecosystem-analysis/main/data/investments.csv\"\n",
    "download5 = requests.get(url5).content\n",
    "url6 = \"https://raw.githubusercontent.com/kirkhach/startup-ecosystem-analysis/main/data/ipos.csv\"\n",
    "download6 = requests.get(url6).content\n",
    "url7 = \"https://raw.githubusercontent.com/kirkhach/startup-ecosystem-analysis/main/data/offices.csv\"\n",
    "download7 = requests.get(url7).content\n",
    "url8 = \"https://raw.githubusercontent.com/kirkhach/startup-ecosystem-analysis/main/data/people.csv\"\n",
    "download8 = requests.get(url8).content\n",
    "url9 = \"https://raw.githubusercontent.com/kirkhach/startup-ecosystem-analysis/main/data/relationships.csv\"\n",
    "download9 = requests.get(url9).content\n",
    "\n",
    "#load in the data\n",
    "acqs = pd.read_csv(io.StringIO(download1.decode('utf-8')))\n",
    "degs = pd.read_csv(io.StringIO(download2.decode('utf-8')))\n",
    "rounds = pd.read_csv(io.StringIO(download3.decode('utf-8')))\n",
    "funds = pd.read_csv(io.StringIO(download4.decode('utf-8')))\n",
    "invs = pd.read_csv(io.StringIO(download5.decode('utf-8')))\n",
    "ipos = pd.read_csv(io.StringIO(download6.decode('utf-8')))\n",
    "ofcs = pd.read_csv(io.StringIO(download7.decode('utf-8')))\n",
    "ppl = pd.read_csv(io.StringIO(download8.decode('utf-8')))\n",
    "relns = pd.read_csv(io.StringIO(download9.decode('utf-8')))\n",
    "\n",
    "\n",
    "#too large for github....may need to use git lfs\n",
    "objs = pd.read_csv('/Users/kirk.hachigian/Desktop/21SpringClasses/3120/Project/objects.csv')"
   ]
  },
  {
   "cell_type": "markdown",
   "metadata": {},
   "source": [
    "### Outcome variable (valuation at IPO/acquisition)"
   ]
  },
  {
   "cell_type": "code",
   "execution_count": 3,
   "metadata": {},
   "outputs": [],
   "source": [
    "#response variable for each company = ipo valuation or acquisition price\n",
    "Y1 = objs.merge(acqs,left_on='id',right_on='acquired_object_id')\n",
    "Y1 = Y1[['id_x','name','price_amount']]\n",
    "#Y1 = Y1[Y1['price_amount']!=0.0]\n",
    "Y1.columns = ['id','name','valuation']\n",
    "\n",
    "Y2 = objs.merge(ipos,left_on='id',right_on='object_id')\n",
    "Y2 = Y2[['id_x','name','valuation_amount']]\n",
    "Y2 = Y2[Y2['valuation_amount']!=0.0]\n",
    "Y2.columns = ['id','name','valuation']\n",
    "\n",
    "Y = Y1.append(Y2)\n",
    "Y.reset_index(inplace=True, drop=True)"
   ]
  },
  {
   "cell_type": "markdown",
   "metadata": {},
   "source": [
    "### Predictor dataframe"
   ]
  },
  {
   "cell_type": "code",
   "execution_count": 4,
   "metadata": {},
   "outputs": [],
   "source": [
    "#create df listing person id, name, company id, title, degree type, subject, institution only \n",
    "#for companies in response\n",
    "df1 = ppl.merge(degs, on='object_id')\n",
    "df3 = df1[['object_id','first_name','last_name','degree_type','subject','institution']]\n",
    "df4 = df3.merge(relns, left_on='object_id',right_on='person_object_id')\n",
    "df5 = df4[['person_object_id','first_name','last_name','relationship_object_id','title','degree_type','subject','institution']]\n",
    "df5.columns=['person_id','first_name','last_name','company_id','title','degree_type','degree_subject','institution']\n",
    "df6 = df5[df5['company_id'].isin(list(Y['id']))]\n",
    "df6.reset_index(inplace=True, drop=True)"
   ]
  },
  {
   "cell_type": "code",
   "execution_count": 5,
   "metadata": {},
   "outputs": [],
   "source": [
    "#group by company to find the most common degree type, subject, and institution at each company\n",
    "df66 = df6.dropna(axis=0,how='any')\n",
    "df6f = df66.groupby(by=['company_id']).agg(lambda x: mode(x)[0])\n",
    "df6f.reset_index(inplace=True)"
   ]
  },
  {
   "cell_type": "code",
   "execution_count": 6,
   "metadata": {},
   "outputs": [],
   "source": [
    "#create df listing company id, name, category, country, state, city, funding round, total funding amount only\n",
    "#for companies in the response Y\n",
    "dfa = objs[objs['entity_type']=='Company']\n",
    "dfa = dfa[['id','name','category_code','country_code','state_code','city','funding_rounds','funding_total_usd']]\n",
    "dfb = dfa[dfa['id'].isin(list(Y['id']))]\n",
    "dfb.reset_index(inplace=True, drop=True)"
   ]
  },
  {
   "cell_type": "markdown",
   "metadata": {},
   "source": [
    "### Dataframe with predictors and response"
   ]
  },
  {
   "cell_type": "code",
   "execution_count": 7,
   "metadata": {},
   "outputs": [
    {
     "data": {
      "text/html": [
       "<div>\n",
       "<style scoped>\n",
       "    .dataframe tbody tr th:only-of-type {\n",
       "        vertical-align: middle;\n",
       "    }\n",
       "\n",
       "    .dataframe tbody tr th {\n",
       "        vertical-align: top;\n",
       "    }\n",
       "\n",
       "    .dataframe thead th {\n",
       "        text-align: right;\n",
       "    }\n",
       "</style>\n",
       "<table border=\"1\" class=\"dataframe\">\n",
       "  <thead>\n",
       "    <tr style=\"text-align: right;\">\n",
       "      <th></th>\n",
       "      <th>company_id</th>\n",
       "      <th>most_common_degree_type</th>\n",
       "      <th>most_common_degree_subject</th>\n",
       "      <th>most_common_institution</th>\n",
       "      <th>category</th>\n",
       "      <th>state</th>\n",
       "      <th>funding_rounds</th>\n",
       "      <th>total_funding</th>\n",
       "      <th>valuation</th>\n",
       "    </tr>\n",
       "  </thead>\n",
       "  <tbody>\n",
       "    <tr>\n",
       "      <th>0</th>\n",
       "      <td>c:10</td>\n",
       "      <td>BA</td>\n",
       "      <td>Compute Science</td>\n",
       "      <td>University of Michigan</td>\n",
       "      <td>games_video</td>\n",
       "      <td>CA</td>\n",
       "      <td>0</td>\n",
       "      <td>0.0</td>\n",
       "      <td>2.000000e+07</td>\n",
       "    </tr>\n",
       "    <tr>\n",
       "      <th>1</th>\n",
       "      <td>c:100</td>\n",
       "      <td>BS</td>\n",
       "      <td>Computer Science</td>\n",
       "      <td>Stanford University</td>\n",
       "      <td>games_video</td>\n",
       "      <td>CA</td>\n",
       "      <td>0</td>\n",
       "      <td>0.0</td>\n",
       "      <td>0.000000e+00</td>\n",
       "    </tr>\n",
       "    <tr>\n",
       "      <th>2</th>\n",
       "      <td>c:1001</td>\n",
       "      <td>MS</td>\n",
       "      <td>Computer Science</td>\n",
       "      <td>Stanford University</td>\n",
       "      <td>web</td>\n",
       "      <td>CA</td>\n",
       "      <td>1</td>\n",
       "      <td>5000000.0</td>\n",
       "      <td>4.750000e+07</td>\n",
       "    </tr>\n",
       "    <tr>\n",
       "      <th>3</th>\n",
       "      <td>c:10014</td>\n",
       "      <td>BS</td>\n",
       "      <td>Communications</td>\n",
       "      <td>Lancaster University</td>\n",
       "      <td>mobile</td>\n",
       "      <td>CA</td>\n",
       "      <td>1</td>\n",
       "      <td>0.0</td>\n",
       "      <td>0.000000e+00</td>\n",
       "    </tr>\n",
       "    <tr>\n",
       "      <th>4</th>\n",
       "      <td>c:1004</td>\n",
       "      <td>BA</td>\n",
       "      <td>Political Science</td>\n",
       "      <td>University of Michigan</td>\n",
       "      <td>games_video</td>\n",
       "      <td>WA</td>\n",
       "      <td>0</td>\n",
       "      <td>0.0</td>\n",
       "      <td>0.000000e+00</td>\n",
       "    </tr>\n",
       "    <tr>\n",
       "      <th>...</th>\n",
       "      <td>...</td>\n",
       "      <td>...</td>\n",
       "      <td>...</td>\n",
       "      <td>...</td>\n",
       "      <td>...</td>\n",
       "      <td>...</td>\n",
       "      <td>...</td>\n",
       "      <td>...</td>\n",
       "      <td>...</td>\n",
       "    </tr>\n",
       "    <tr>\n",
       "      <th>2586</th>\n",
       "      <td>c:65680</td>\n",
       "      <td>BS</td>\n",
       "      <td>Biochemistry</td>\n",
       "      <td>University of Missouri-Columbia</td>\n",
       "      <td>biotech</td>\n",
       "      <td>KS</td>\n",
       "      <td>4</td>\n",
       "      <td>76750000.0</td>\n",
       "      <td>2.230000e+08</td>\n",
       "    </tr>\n",
       "    <tr>\n",
       "      <th>2587</th>\n",
       "      <td>c:71350</td>\n",
       "      <td>BS</td>\n",
       "      <td>Computer Science</td>\n",
       "      <td>Columbia University</td>\n",
       "      <td>messaging</td>\n",
       "      <td>MA</td>\n",
       "      <td>0</td>\n",
       "      <td>0.0</td>\n",
       "      <td>2.000000e+07</td>\n",
       "    </tr>\n",
       "    <tr>\n",
       "      <th>2588</th>\n",
       "      <td>c:757</td>\n",
       "      <td>BS</td>\n",
       "      <td>Computer Science</td>\n",
       "      <td>Stanford University</td>\n",
       "      <td>software</td>\n",
       "      <td>CA</td>\n",
       "      <td>5</td>\n",
       "      <td>69426794.0</td>\n",
       "      <td>1.000000e+09</td>\n",
       "    </tr>\n",
       "    <tr>\n",
       "      <th>2589</th>\n",
       "      <td>c:8530</td>\n",
       "      <td>BA</td>\n",
       "      <td>BA</td>\n",
       "      <td>Columbia University</td>\n",
       "      <td>software</td>\n",
       "      <td>PA</td>\n",
       "      <td>1</td>\n",
       "      <td>12500000.0</td>\n",
       "      <td>1.000000e+09</td>\n",
       "    </tr>\n",
       "    <tr>\n",
       "      <th>2590</th>\n",
       "      <td>c:959</td>\n",
       "      <td>BA</td>\n",
       "      <td>Political Science</td>\n",
       "      <td>Stanford University</td>\n",
       "      <td>real_estate</td>\n",
       "      <td>WA</td>\n",
       "      <td>5</td>\n",
       "      <td>96627980.0</td>\n",
       "      <td>2.550000e+09</td>\n",
       "    </tr>\n",
       "  </tbody>\n",
       "</table>\n",
       "<p>2591 rows × 9 columns</p>\n",
       "</div>"
      ],
      "text/plain": [
       "     company_id most_common_degree_type most_common_degree_subject  \\\n",
       "0          c:10                      BA            Compute Science   \n",
       "1         c:100                      BS           Computer Science   \n",
       "2        c:1001                      MS           Computer Science   \n",
       "3       c:10014                      BS             Communications   \n",
       "4        c:1004                      BA          Political Science   \n",
       "...         ...                     ...                        ...   \n",
       "2586    c:65680                      BS               Biochemistry   \n",
       "2587    c:71350                      BS           Computer Science   \n",
       "2588      c:757                      BS           Computer Science   \n",
       "2589     c:8530                      BA                         BA   \n",
       "2590      c:959                      BA          Political Science   \n",
       "\n",
       "              most_common_institution     category state  funding_rounds  \\\n",
       "0              University of Michigan  games_video    CA               0   \n",
       "1                 Stanford University  games_video    CA               0   \n",
       "2                 Stanford University          web    CA               1   \n",
       "3                Lancaster University       mobile    CA               1   \n",
       "4              University of Michigan  games_video    WA               0   \n",
       "...                               ...          ...   ...             ...   \n",
       "2586  University of Missouri-Columbia      biotech    KS               4   \n",
       "2587              Columbia University    messaging    MA               0   \n",
       "2588              Stanford University     software    CA               5   \n",
       "2589              Columbia University     software    PA               1   \n",
       "2590              Stanford University  real_estate    WA               5   \n",
       "\n",
       "      total_funding     valuation  \n",
       "0               0.0  2.000000e+07  \n",
       "1               0.0  0.000000e+00  \n",
       "2         5000000.0  4.750000e+07  \n",
       "3               0.0  0.000000e+00  \n",
       "4               0.0  0.000000e+00  \n",
       "...             ...           ...  \n",
       "2586     76750000.0  2.230000e+08  \n",
       "2587            0.0  2.000000e+07  \n",
       "2588     69426794.0  1.000000e+09  \n",
       "2589     12500000.0  1.000000e+09  \n",
       "2590     96627980.0  2.550000e+09  \n",
       "\n",
       "[2591 rows x 9 columns]"
      ]
     },
     "execution_count": 7,
     "metadata": {},
     "output_type": "execute_result"
    }
   ],
   "source": [
    "#merge predictor dataframes on company id with valuation as the outcome variable\n",
    "Y = Y.merge(df6f,left_on='id',right_on='company_id')\n",
    "Y = Y.merge(dfb,on='id')\n",
    "Yf = Y[['id','degree_type','degree_subject','institution','category_code', 'state_code', 'funding_rounds','funding_total_usd','valuation']]\n",
    "Yf = Yf.dropna(axis=0,how='any')\n",
    "Yf.reset_index(inplace=True,drop=True)\n",
    "Yf.columns=['company_id','most_common_degree_type','most_common_degree_subject','most_common_institution','category','state','funding_rounds','total_funding','valuation']\n",
    "Yf\n",
    "\n"
   ]
  },
  {
   "cell_type": "markdown",
   "metadata": {},
   "source": [
    "### Creating dummy variables for categorical predictors"
   ]
  },
  {
   "cell_type": "code",
   "execution_count": 8,
   "metadata": {},
   "outputs": [],
   "source": [
    "pd.set_option(\"display.max_rows\",2000)"
   ]
  },
  {
   "cell_type": "code",
   "execution_count": 9,
   "metadata": {},
   "outputs": [
    {
     "data": {
      "text/plain": [
       "Undergraduate Science     1258\n",
       "Undergraduate Arts         884\n",
       "Graduate                   217\n",
       "Other                      176\n",
       "Undergraduate Business      56\n",
       "Name: most_common_degree_type, dtype: int64"
      ]
     },
     "execution_count": 9,
     "metadata": {},
     "output_type": "execute_result"
    }
   ],
   "source": [
    "#dummy variables for degree type: BS/BE, BA, BBA, Graduate (MS, MBA, PhD, JD), Other\n",
    "Yf['most_common_degree_type'] = Yf['most_common_degree_type'].replace(['BS','BE'],'Undergraduate Science')\n",
    "Yf['most_common_degree_type'] = Yf['most_common_degree_type'].replace('BA','Undergraduate Arts')\n",
    "Yf['most_common_degree_type'] = Yf['most_common_degree_type'].replace('BBA','Undergraduate Business')\n",
    "Yf['most_common_degree_type'] = Yf['most_common_degree_type'].replace(['MS','PhD','MBA','JD'],'Graduate')\n",
    "for degree in Yf['most_common_degree_type'].unique():\n",
    "    if degree not in ['Undergraduate Science','Graduate','Undergraduate Business','Undergraduate Arts']:\n",
    "        Yf['most_common_degree_type'] = Yf['most_common_degree_type'].replace(degree,'Other')\n",
    "        \n",
    "Yf['most_common_degree_type'].value_counts()        "
   ]
  },
  {
   "cell_type": "markdown",
   "metadata": {},
   "source": [
    "#### TODO: try to figure out the regex using replace"
   ]
  },
  {
   "cell_type": "code",
   "execution_count": 10,
   "metadata": {},
   "outputs": [
    {
     "data": {
      "text/plain": [
       "Other                     1181\n",
       "Computer Science           519\n",
       "Social Sciences            266\n",
       "Electrical Engineering     197\n",
       "Accounting/Finance         163\n",
       "Other Engineering          110\n",
       "Physical Sciences          109\n",
       "Mechanical Engineering      46\n",
       "Name: most_common_degree_subject, dtype: int64"
      ]
     },
     "execution_count": 10,
     "metadata": {},
     "output_type": "execute_result"
    }
   ],
   "source": [
    "#dummy variables for degree subjects:\n",
    "#computer science, ece, meche, other engineering, business, accounting/finance, biology/chemistry/physics, english/comm/history/psych, other\n",
    "Yf['most_common_degree_subject'] = Yf['most_common_degree_subject'].replace(['Computer Engineering','Computer Information Systems','Computer Science & Engineering'],'Computer Science')\n",
    "Yf['most_common_degree_subject'] = Yf['most_common_degree_subject'].replace(['Engineering','Chemical Engineering','Aerospace Engineering','Mathematics','Applied Mathematics','Industrial Engineering'],'Other Engineering')\n",
    "Yf['most_common_degree_subject'] = Yf['most_common_degree_subject'].replace(['Business','MBA','Marketing','Business Managment','Entreprneurship','Business Administration'],'Business/Management')\n",
    "Yf['most_common_degree_subject'] = Yf['most_common_degree_subject'].replace(['Accounting','Finance'],'Accounting/Finance')\n",
    "Yf['most_common_degree_subject'] = Yf['most_common_degree_subject'].replace(['Biology','Chemistry','Biochemistry','Physics','Applied Physics'],'Physical Sciences')\n",
    "Yf['most_common_degree_subject'] = Yf['most_common_degree_subject'].replace(['Economics','Law','Political Science','Communications','English','History','Psychology','Anthropology','Cognitive Science','Philosophy'],'Social Sciences')\n",
    "\n",
    "for degree in Yf['most_common_degree_subject'].unique():\n",
    "    if degree not in ['Computer Science','Business/Managment','Social Sciences','Electrical Engineering','Accounting/Finance','Other Engineering','Physical Sciences','Mechanical Engineering']:\n",
    "        Yf['most_common_degree_subject'] = Yf['most_common_degree_subject'].replace(degree,'Other')\n",
    "\n",
    "Yf['most_common_degree_subject'].value_counts()\n"
   ]
  },
  {
   "cell_type": "code",
   "execution_count": 11,
   "metadata": {},
   "outputs": [
    {
     "data": {
      "text/plain": [
       "Other                 1385\n",
       "Top-10 Institution     604\n",
       "Top-20 Institution     234\n",
       "Top-30 Institution     198\n",
       "Top-50 Institution      98\n",
       "Top-40 Institution      72\n",
       "Name: most_common_institution, dtype: int64"
      ]
     },
     "execution_count": 11,
     "metadata": {},
     "output_type": "execute_result"
    }
   ],
   "source": [
    "#dummy variables for institutions – should note that ranking from 2021 and more institutions \n",
    "# than 10 per tier due to ties in the ranking (https://www.usnews.com/best-colleges/rankings/national-universities):\n",
    "\n",
    "Yf['most_common_institution'] = Yf['most_common_institution'].replace(['Harvard University','Harvard Business School','Stanford University','Stanford University Graduate School of Business','Massachusetts Institute of Technology','Massachusetts Institute of Technology (MIT)','MIT','Yale University','Columbia University','Columbia University, Business School','Princeton University','University of Chicago','University of Pennsylvania','The Wharton School of the University of Pennsylvania','California Institute of Technology','Caltech','Johns Hopkins University','Northwestern University','Northwestern University, Kellogg School of Management','Harvard Law School'],'Top-10 Institution')\n",
    "Yf['most_common_institution'] = Yf['most_common_institution'].replace(['Duke University','Dartmouth College','Dartmouth College, Tuck School of Business','Brown University','Vanderbilt University','Rice University','Washington University in St. Louis','Cornell University','University of Notre Dame','University of California, Los Angeles (UCLA)','UCLA','University of California, Los Angeles'],'Top-20 Institution')\n",
    "Yf['most_common_institution'] = Yf['most_common_institution'].replace(['New York University (NYU)','Emory University','University of California, Berkeley','University of California','Georgetown University','University of Michigan','University of Michigan - Stephen M. Ross School of Business','University of Southern California (USC)','Carnegie Mellon University','University of Virginia','University of North Carolina','Wake Forest University','New York University'],'Top-30 Institution')\n",
    "Yf['most_common_institution'] = Yf['most_common_institution'].replace(['Tufts University','University of California, Santa Barbara (UCSB)','University of Florida','University of Rochester','Rochester Institute of Technology','Boston College','Georgia Institute of Technology','University of California, Irvine','University of California, San Diego (UCSD)','University of California, San Diego','University of California, Davis','University of California, Davis (UCD)','William & Mary'],'Top-40 Institution')\n",
    "Yf['most_common_institution'] = Yf['most_common_institution'].replace(['Tulane University','Boston University','Brandeis University','Case Western Reserve University','The University of Texas at Austin','University of Texas at Austin','University of Texas','University of Wisconsin-Madison','University of Georgia','University of Illinois at Urbana-Champaign','Lehigh University','Northeastern University','Pepperdine University','University of Miami'],'Top-50 Institution')\n",
    "\n",
    "for inst in Yf['most_common_institution'].unique():\n",
    "    if inst not in ['Top-10 Institution','Top-20 Institution','Top-30 Institution','Top-40 Institution','Top-50 Institution']:\n",
    "        Yf['most_common_institution'] = Yf['most_common_institution'].replace(inst,'Other')\n",
    "\n",
    "\n",
    "Yf['most_common_institution'].value_counts()"
   ]
  },
  {
   "cell_type": "code",
   "execution_count": 12,
   "metadata": {},
   "outputs": [
    {
     "data": {
      "text/plain": [
       "software                         562\n",
       "web/search                       434\n",
       "biotech                          200\n",
       "enterprise/manufacturing         195\n",
       "mobile                           181\n",
       "advertising                      161\n",
       "other                            160\n",
       "entertainment                    154\n",
       "media                            110\n",
       "network_hosting                   92\n",
       "ecommerce                         84\n",
       "financial services/consulting     78\n",
       "hardware                          66\n",
       "semiconductor                     58\n",
       "security                          56\n",
       "Name: category, dtype: int64"
      ]
     },
     "execution_count": 12,
     "metadata": {},
     "output_type": "execute_result"
    }
   ],
   "source": [
    "#dummy variables for categories: merge into the significant categories (50+ companies) and other\n",
    " \n",
    "# software:\n",
    "# web: search\n",
    "# enterprise: manufacturing\n",
    "# biotech: medical, nanotech\n",
    "# mobile: messaging\n",
    "# advertising:\n",
    "# games_video: music, photo_video, sports, hospitality\n",
    "# network_hosting:\n",
    "# ecommerce: fashion\n",
    "# public_relations: social, news\n",
    "# consulting, analytics, finance, real_estate, legal\n",
    "# hardware:\n",
    "# other: cleantech, health, travel, transportation, automotive, local, education\n",
    "# semiconductor:\n",
    "# security:\n",
    "\n",
    "Yf['category'] = Yf['category'].replace(['web','search'],'web/search')\n",
    "Yf['category'] = Yf['category'].replace(['enterprise','manufacturing'],'enterprise/manufacturing')\n",
    "Yf['category'] = Yf['category'].replace(['medical','nanotech'],'biotech')\n",
    "Yf['category'] = Yf['category'].replace(['games_video','music','photo_video','sports','hospitality'],'entertainment')\n",
    "Yf['category'] = Yf['category'].replace('fashion','ecommerce')\n",
    "Yf['category'] = Yf['category'].replace('messaging','mobile')\n",
    "Yf['category'] = Yf['category'].replace(['social','news','public_relations'],'media')\n",
    "Yf['category'] = Yf['category'].replace(['consulting','analytics','finance','real_estate','legal'],'financial services/consulting')\n",
    "Yf['category'] = Yf['category'].replace(['cleantech','health','travel','transportation','automotive','local','education'],'other')\n",
    "\n",
    "\n",
    "Yf['category'].value_counts()"
   ]
  },
  {
   "cell_type": "code",
   "execution_count": 13,
   "metadata": {},
   "outputs": [
    {
     "data": {
      "text/plain": [
       "Pacific         1380\n",
       "Northeast        535\n",
       "Mid-Atlantic     197\n",
       "Midwest          155\n",
       "Southwest        126\n",
       "South            113\n",
       "West              85\n",
       "Name: state, dtype: int64"
      ]
     },
     "execution_count": 13,
     "metadata": {},
     "output_type": "execute_result"
    }
   ],
   "source": [
    "#dummy variables for states: by regions from the map\n",
    "Yf['state'] = Yf['state'].replace(['CA','OR','WA','AK','HI'],'Pacific')\n",
    "Yf['state'] = Yf['state'].replace(['ID','MT','CO','WY','UT','NV'],'West')\n",
    "Yf['state'] = Yf['state'].replace(['AZ','NM','TX','OK'],'Southwest')\n",
    "Yf['state'] = Yf['state'].replace(['AR','LA','FL','MS','AL','GA','SC','TN','NC'],'South')\n",
    "Yf['state'] = Yf['state'].replace(['DC','VA','MD','PA','NJ','DE'],'Mid-Atlantic')\n",
    "Yf['state'] = Yf['state'].replace(['ME','NH','VT','MA','RI','CT','NY'],'Northeast')\n",
    "Yf['state'] = Yf['state'].replace(['WV','OH','IL','KY','IN','MI','WI','MN','IA','MO','MN','KS','NE','SD','ND','MO'],'Midwest')\n",
    "\n",
    "Yf['state'].value_counts()"
   ]
  },
  {
   "cell_type": "markdown",
   "metadata": {},
   "source": [
    "### Final dataframe"
   ]
  },
  {
   "cell_type": "code",
   "execution_count": 14,
   "metadata": {},
   "outputs": [
    {
     "data": {
      "text/html": [
       "<div>\n",
       "<style scoped>\n",
       "    .dataframe tbody tr th:only-of-type {\n",
       "        vertical-align: middle;\n",
       "    }\n",
       "\n",
       "    .dataframe tbody tr th {\n",
       "        vertical-align: top;\n",
       "    }\n",
       "\n",
       "    .dataframe thead th {\n",
       "        text-align: right;\n",
       "    }\n",
       "</style>\n",
       "<table border=\"1\" class=\"dataframe\">\n",
       "  <thead>\n",
       "    <tr style=\"text-align: right;\">\n",
       "      <th></th>\n",
       "      <th>funding_rounds</th>\n",
       "      <th>total_funding</th>\n",
       "      <th>valuation</th>\n",
       "      <th>most_common_degree_type_Graduate</th>\n",
       "      <th>most_common_degree_type_Other</th>\n",
       "      <th>most_common_degree_type_Undergraduate Arts</th>\n",
       "      <th>most_common_degree_type_Undergraduate Business</th>\n",
       "      <th>most_common_degree_type_Undergraduate Science</th>\n",
       "      <th>most_common_degree_subject_Accounting/Finance</th>\n",
       "      <th>most_common_degree_subject_Computer Science</th>\n",
       "      <th>...</th>\n",
       "      <th>category_semiconductor</th>\n",
       "      <th>category_software</th>\n",
       "      <th>category_web/search</th>\n",
       "      <th>state_Mid-Atlantic</th>\n",
       "      <th>state_Midwest</th>\n",
       "      <th>state_Northeast</th>\n",
       "      <th>state_Pacific</th>\n",
       "      <th>state_South</th>\n",
       "      <th>state_Southwest</th>\n",
       "      <th>state_West</th>\n",
       "    </tr>\n",
       "  </thead>\n",
       "  <tbody>\n",
       "    <tr>\n",
       "      <th>0</th>\n",
       "      <td>0</td>\n",
       "      <td>0.0</td>\n",
       "      <td>2.000000e+07</td>\n",
       "      <td>0</td>\n",
       "      <td>0</td>\n",
       "      <td>1</td>\n",
       "      <td>0</td>\n",
       "      <td>0</td>\n",
       "      <td>0</td>\n",
       "      <td>0</td>\n",
       "      <td>...</td>\n",
       "      <td>0</td>\n",
       "      <td>0</td>\n",
       "      <td>0</td>\n",
       "      <td>0</td>\n",
       "      <td>0</td>\n",
       "      <td>0</td>\n",
       "      <td>1</td>\n",
       "      <td>0</td>\n",
       "      <td>0</td>\n",
       "      <td>0</td>\n",
       "    </tr>\n",
       "    <tr>\n",
       "      <th>1</th>\n",
       "      <td>0</td>\n",
       "      <td>0.0</td>\n",
       "      <td>0.000000e+00</td>\n",
       "      <td>0</td>\n",
       "      <td>0</td>\n",
       "      <td>0</td>\n",
       "      <td>0</td>\n",
       "      <td>1</td>\n",
       "      <td>0</td>\n",
       "      <td>1</td>\n",
       "      <td>...</td>\n",
       "      <td>0</td>\n",
       "      <td>0</td>\n",
       "      <td>0</td>\n",
       "      <td>0</td>\n",
       "      <td>0</td>\n",
       "      <td>0</td>\n",
       "      <td>1</td>\n",
       "      <td>0</td>\n",
       "      <td>0</td>\n",
       "      <td>0</td>\n",
       "    </tr>\n",
       "    <tr>\n",
       "      <th>2</th>\n",
       "      <td>1</td>\n",
       "      <td>5000000.0</td>\n",
       "      <td>4.750000e+07</td>\n",
       "      <td>1</td>\n",
       "      <td>0</td>\n",
       "      <td>0</td>\n",
       "      <td>0</td>\n",
       "      <td>0</td>\n",
       "      <td>0</td>\n",
       "      <td>1</td>\n",
       "      <td>...</td>\n",
       "      <td>0</td>\n",
       "      <td>0</td>\n",
       "      <td>1</td>\n",
       "      <td>0</td>\n",
       "      <td>0</td>\n",
       "      <td>0</td>\n",
       "      <td>1</td>\n",
       "      <td>0</td>\n",
       "      <td>0</td>\n",
       "      <td>0</td>\n",
       "    </tr>\n",
       "    <tr>\n",
       "      <th>3</th>\n",
       "      <td>1</td>\n",
       "      <td>0.0</td>\n",
       "      <td>0.000000e+00</td>\n",
       "      <td>0</td>\n",
       "      <td>0</td>\n",
       "      <td>0</td>\n",
       "      <td>0</td>\n",
       "      <td>1</td>\n",
       "      <td>0</td>\n",
       "      <td>0</td>\n",
       "      <td>...</td>\n",
       "      <td>0</td>\n",
       "      <td>0</td>\n",
       "      <td>0</td>\n",
       "      <td>0</td>\n",
       "      <td>0</td>\n",
       "      <td>0</td>\n",
       "      <td>1</td>\n",
       "      <td>0</td>\n",
       "      <td>0</td>\n",
       "      <td>0</td>\n",
       "    </tr>\n",
       "    <tr>\n",
       "      <th>4</th>\n",
       "      <td>0</td>\n",
       "      <td>0.0</td>\n",
       "      <td>0.000000e+00</td>\n",
       "      <td>0</td>\n",
       "      <td>0</td>\n",
       "      <td>1</td>\n",
       "      <td>0</td>\n",
       "      <td>0</td>\n",
       "      <td>0</td>\n",
       "      <td>0</td>\n",
       "      <td>...</td>\n",
       "      <td>0</td>\n",
       "      <td>0</td>\n",
       "      <td>0</td>\n",
       "      <td>0</td>\n",
       "      <td>0</td>\n",
       "      <td>0</td>\n",
       "      <td>1</td>\n",
       "      <td>0</td>\n",
       "      <td>0</td>\n",
       "      <td>0</td>\n",
       "    </tr>\n",
       "    <tr>\n",
       "      <th>...</th>\n",
       "      <td>...</td>\n",
       "      <td>...</td>\n",
       "      <td>...</td>\n",
       "      <td>...</td>\n",
       "      <td>...</td>\n",
       "      <td>...</td>\n",
       "      <td>...</td>\n",
       "      <td>...</td>\n",
       "      <td>...</td>\n",
       "      <td>...</td>\n",
       "      <td>...</td>\n",
       "      <td>...</td>\n",
       "      <td>...</td>\n",
       "      <td>...</td>\n",
       "      <td>...</td>\n",
       "      <td>...</td>\n",
       "      <td>...</td>\n",
       "      <td>...</td>\n",
       "      <td>...</td>\n",
       "      <td>...</td>\n",
       "      <td>...</td>\n",
       "    </tr>\n",
       "    <tr>\n",
       "      <th>2586</th>\n",
       "      <td>4</td>\n",
       "      <td>76750000.0</td>\n",
       "      <td>2.230000e+08</td>\n",
       "      <td>0</td>\n",
       "      <td>0</td>\n",
       "      <td>0</td>\n",
       "      <td>0</td>\n",
       "      <td>1</td>\n",
       "      <td>0</td>\n",
       "      <td>0</td>\n",
       "      <td>...</td>\n",
       "      <td>0</td>\n",
       "      <td>0</td>\n",
       "      <td>0</td>\n",
       "      <td>0</td>\n",
       "      <td>1</td>\n",
       "      <td>0</td>\n",
       "      <td>0</td>\n",
       "      <td>0</td>\n",
       "      <td>0</td>\n",
       "      <td>0</td>\n",
       "    </tr>\n",
       "    <tr>\n",
       "      <th>2587</th>\n",
       "      <td>0</td>\n",
       "      <td>0.0</td>\n",
       "      <td>2.000000e+07</td>\n",
       "      <td>0</td>\n",
       "      <td>0</td>\n",
       "      <td>0</td>\n",
       "      <td>0</td>\n",
       "      <td>1</td>\n",
       "      <td>0</td>\n",
       "      <td>1</td>\n",
       "      <td>...</td>\n",
       "      <td>0</td>\n",
       "      <td>0</td>\n",
       "      <td>0</td>\n",
       "      <td>0</td>\n",
       "      <td>0</td>\n",
       "      <td>1</td>\n",
       "      <td>0</td>\n",
       "      <td>0</td>\n",
       "      <td>0</td>\n",
       "      <td>0</td>\n",
       "    </tr>\n",
       "    <tr>\n",
       "      <th>2588</th>\n",
       "      <td>5</td>\n",
       "      <td>69426794.0</td>\n",
       "      <td>1.000000e+09</td>\n",
       "      <td>0</td>\n",
       "      <td>0</td>\n",
       "      <td>0</td>\n",
       "      <td>0</td>\n",
       "      <td>1</td>\n",
       "      <td>0</td>\n",
       "      <td>1</td>\n",
       "      <td>...</td>\n",
       "      <td>0</td>\n",
       "      <td>1</td>\n",
       "      <td>0</td>\n",
       "      <td>0</td>\n",
       "      <td>0</td>\n",
       "      <td>0</td>\n",
       "      <td>1</td>\n",
       "      <td>0</td>\n",
       "      <td>0</td>\n",
       "      <td>0</td>\n",
       "    </tr>\n",
       "    <tr>\n",
       "      <th>2589</th>\n",
       "      <td>1</td>\n",
       "      <td>12500000.0</td>\n",
       "      <td>1.000000e+09</td>\n",
       "      <td>0</td>\n",
       "      <td>0</td>\n",
       "      <td>1</td>\n",
       "      <td>0</td>\n",
       "      <td>0</td>\n",
       "      <td>0</td>\n",
       "      <td>0</td>\n",
       "      <td>...</td>\n",
       "      <td>0</td>\n",
       "      <td>1</td>\n",
       "      <td>0</td>\n",
       "      <td>1</td>\n",
       "      <td>0</td>\n",
       "      <td>0</td>\n",
       "      <td>0</td>\n",
       "      <td>0</td>\n",
       "      <td>0</td>\n",
       "      <td>0</td>\n",
       "    </tr>\n",
       "    <tr>\n",
       "      <th>2590</th>\n",
       "      <td>5</td>\n",
       "      <td>96627980.0</td>\n",
       "      <td>2.550000e+09</td>\n",
       "      <td>0</td>\n",
       "      <td>0</td>\n",
       "      <td>1</td>\n",
       "      <td>0</td>\n",
       "      <td>0</td>\n",
       "      <td>0</td>\n",
       "      <td>0</td>\n",
       "      <td>...</td>\n",
       "      <td>0</td>\n",
       "      <td>0</td>\n",
       "      <td>0</td>\n",
       "      <td>0</td>\n",
       "      <td>0</td>\n",
       "      <td>0</td>\n",
       "      <td>1</td>\n",
       "      <td>0</td>\n",
       "      <td>0</td>\n",
       "      <td>0</td>\n",
       "    </tr>\n",
       "  </tbody>\n",
       "</table>\n",
       "<p>2591 rows × 44 columns</p>\n",
       "</div>"
      ],
      "text/plain": [
       "      funding_rounds  total_funding     valuation  \\\n",
       "0                  0            0.0  2.000000e+07   \n",
       "1                  0            0.0  0.000000e+00   \n",
       "2                  1      5000000.0  4.750000e+07   \n",
       "3                  1            0.0  0.000000e+00   \n",
       "4                  0            0.0  0.000000e+00   \n",
       "...              ...            ...           ...   \n",
       "2586               4     76750000.0  2.230000e+08   \n",
       "2587               0            0.0  2.000000e+07   \n",
       "2588               5     69426794.0  1.000000e+09   \n",
       "2589               1     12500000.0  1.000000e+09   \n",
       "2590               5     96627980.0  2.550000e+09   \n",
       "\n",
       "      most_common_degree_type_Graduate  most_common_degree_type_Other  \\\n",
       "0                                    0                              0   \n",
       "1                                    0                              0   \n",
       "2                                    1                              0   \n",
       "3                                    0                              0   \n",
       "4                                    0                              0   \n",
       "...                                ...                            ...   \n",
       "2586                                 0                              0   \n",
       "2587                                 0                              0   \n",
       "2588                                 0                              0   \n",
       "2589                                 0                              0   \n",
       "2590                                 0                              0   \n",
       "\n",
       "      most_common_degree_type_Undergraduate Arts  \\\n",
       "0                                              1   \n",
       "1                                              0   \n",
       "2                                              0   \n",
       "3                                              0   \n",
       "4                                              1   \n",
       "...                                          ...   \n",
       "2586                                           0   \n",
       "2587                                           0   \n",
       "2588                                           0   \n",
       "2589                                           1   \n",
       "2590                                           1   \n",
       "\n",
       "      most_common_degree_type_Undergraduate Business  \\\n",
       "0                                                  0   \n",
       "1                                                  0   \n",
       "2                                                  0   \n",
       "3                                                  0   \n",
       "4                                                  0   \n",
       "...                                              ...   \n",
       "2586                                               0   \n",
       "2587                                               0   \n",
       "2588                                               0   \n",
       "2589                                               0   \n",
       "2590                                               0   \n",
       "\n",
       "      most_common_degree_type_Undergraduate Science  \\\n",
       "0                                                 0   \n",
       "1                                                 1   \n",
       "2                                                 0   \n",
       "3                                                 1   \n",
       "4                                                 0   \n",
       "...                                             ...   \n",
       "2586                                              1   \n",
       "2587                                              1   \n",
       "2588                                              1   \n",
       "2589                                              0   \n",
       "2590                                              0   \n",
       "\n",
       "      most_common_degree_subject_Accounting/Finance  \\\n",
       "0                                                 0   \n",
       "1                                                 0   \n",
       "2                                                 0   \n",
       "3                                                 0   \n",
       "4                                                 0   \n",
       "...                                             ...   \n",
       "2586                                              0   \n",
       "2587                                              0   \n",
       "2588                                              0   \n",
       "2589                                              0   \n",
       "2590                                              0   \n",
       "\n",
       "      most_common_degree_subject_Computer Science  ...  \\\n",
       "0                                               0  ...   \n",
       "1                                               1  ...   \n",
       "2                                               1  ...   \n",
       "3                                               0  ...   \n",
       "4                                               0  ...   \n",
       "...                                           ...  ...   \n",
       "2586                                            0  ...   \n",
       "2587                                            1  ...   \n",
       "2588                                            1  ...   \n",
       "2589                                            0  ...   \n",
       "2590                                            0  ...   \n",
       "\n",
       "      category_semiconductor  category_software  category_web/search  \\\n",
       "0                          0                  0                    0   \n",
       "1                          0                  0                    0   \n",
       "2                          0                  0                    1   \n",
       "3                          0                  0                    0   \n",
       "4                          0                  0                    0   \n",
       "...                      ...                ...                  ...   \n",
       "2586                       0                  0                    0   \n",
       "2587                       0                  0                    0   \n",
       "2588                       0                  1                    0   \n",
       "2589                       0                  1                    0   \n",
       "2590                       0                  0                    0   \n",
       "\n",
       "      state_Mid-Atlantic  state_Midwest  state_Northeast  state_Pacific  \\\n",
       "0                      0              0                0              1   \n",
       "1                      0              0                0              1   \n",
       "2                      0              0                0              1   \n",
       "3                      0              0                0              1   \n",
       "4                      0              0                0              1   \n",
       "...                  ...            ...              ...            ...   \n",
       "2586                   0              1                0              0   \n",
       "2587                   0              0                1              0   \n",
       "2588                   0              0                0              1   \n",
       "2589                   1              0                0              0   \n",
       "2590                   0              0                0              1   \n",
       "\n",
       "      state_South  state_Southwest  state_West  \n",
       "0               0                0           0  \n",
       "1               0                0           0  \n",
       "2               0                0           0  \n",
       "3               0                0           0  \n",
       "4               0                0           0  \n",
       "...           ...              ...         ...  \n",
       "2586            0                0           0  \n",
       "2587            0                0           0  \n",
       "2588            0                0           0  \n",
       "2589            0                0           0  \n",
       "2590            0                0           0  \n",
       "\n",
       "[2591 rows x 44 columns]"
      ]
     },
     "execution_count": 14,
     "metadata": {},
     "output_type": "execute_result"
    }
   ],
   "source": [
    "df = Yf.drop(columns=['company_id'])\n",
    "df = pd.get_dummies(df)\n",
    "df.reset_index(inplace=True,drop=True)\n",
    "df"
   ]
  },
  {
   "cell_type": "code",
   "execution_count": 15,
   "metadata": {},
   "outputs": [
    {
     "name": "stdout",
     "output_type": "stream",
     "text": [
      "['funding_rounds', 'total_funding', 'valuation', 'most_common_degree_type_Graduate', 'most_common_degree_type_Other', 'most_common_degree_type_Undergraduate Arts', 'most_common_degree_type_Undergraduate Business', 'most_common_degree_type_Undergraduate Science', 'most_common_degree_subject_Accounting/Finance', 'most_common_degree_subject_Computer Science', 'most_common_degree_subject_Electrical Engineering', 'most_common_degree_subject_Mechanical Engineering', 'most_common_degree_subject_Other', 'most_common_degree_subject_Other Engineering', 'most_common_degree_subject_Physical Sciences', 'most_common_degree_subject_Social Sciences', 'most_common_institution_Other', 'most_common_institution_Top-10 Institution', 'most_common_institution_Top-20 Institution', 'most_common_institution_Top-30 Institution', 'most_common_institution_Top-40 Institution', 'most_common_institution_Top-50 Institution', 'category_advertising', 'category_biotech', 'category_ecommerce', 'category_enterprise/manufacturing', 'category_entertainment', 'category_financial services/consulting', 'category_hardware', 'category_media', 'category_mobile', 'category_network_hosting', 'category_other', 'category_security', 'category_semiconductor', 'category_software', 'category_web/search', 'state_Mid-Atlantic', 'state_Midwest', 'state_Northeast', 'state_Pacific', 'state_South', 'state_Southwest', 'state_West']\n"
     ]
    }
   ],
   "source": [
    "#list of the predictors\n",
    "print(df.columns.tolist())"
   ]
  },
  {
   "cell_type": "markdown",
   "metadata": {},
   "source": [
    "### Linear regression for valuation"
   ]
  },
  {
   "cell_type": "code",
   "execution_count": null,
   "metadata": {},
   "outputs": [],
   "source": []
  },
  {
   "cell_type": "markdown",
   "metadata": {},
   "source": [
    "### Testing for hidden confounders"
   ]
  },
  {
   "cell_type": "code",
   "execution_count": null,
   "metadata": {},
   "outputs": [],
   "source": []
  },
  {
   "cell_type": "markdown",
   "metadata": {},
   "source": [
    "### Logistic regression for valuation"
   ]
  },
  {
   "cell_type": "code",
   "execution_count": 280,
   "metadata": {},
   "outputs": [
    {
     "data": {
      "text/plain": [
       "Failure    1584\n",
       "Success     858\n",
       "Unicorn     149\n",
       "Name: valuation, dtype: int64"
      ]
     },
     "execution_count": 280,
     "metadata": {},
     "output_type": "execute_result"
    }
   ],
   "source": [
    "df2 = df.copy()\n",
    "df2['valuation'] = np.where(df2['valuation'].between(1,999999999), 1, df2['valuation'])\n",
    "df2['valuation'] = np.where(df2['valuation'] >= 1000000000, 2, df2['valuation'])\n",
    "\n",
    "df2['valuation'] = df2['valuation'].replace(0,'Failure')\n",
    "df2['valuation'] = df2['valuation'].replace(1,'Success')\n",
    "df2['valuation'] = df2['valuation'].replace(2,'Unicorn')\n",
    "\n",
    "\n",
    "df2['valuation'].value_counts()"
   ]
  },
  {
   "cell_type": "code",
   "execution_count": 844,
   "metadata": {},
   "outputs": [],
   "source": [
    "#predictors are all columns except valuation\n",
    "X = df2\n",
    "X = X.drop(columns=['valuation'])\n",
    "X = sm.add_constant(X)\n",
    "#Valuation is the outcome\n",
    "Y = df2['valuation']\n",
    "\n",
    "#test/train split\n",
    "X_train, X_test, Y_train, Y_test = train_test_split(X, Y, test_size=0.25, random_state=1)"
   ]
  },
  {
   "cell_type": "code",
   "execution_count": 845,
   "metadata": {},
   "outputs": [
    {
     "name": "stdout",
     "output_type": "stream",
     "text": [
      "training accuracy:  0.6026762738033968\n",
      "testing accuracy:  0.6373456790123457\n"
     ]
    }
   ],
   "source": [
    "logreg = LogisticRegression(fit_intercept=False,class_weight={'Unicorn': .1,'Success': .3,'Failure':.6}).fit(X_train,Y_train)\n",
    "pred = logreg.predict(X_test)\n",
    "\n",
    "train_score = logreg.score(X_train,Y_train)\n",
    "print(\"training accuracy: \",train_score)\n",
    "test_score = logreg.score(X_test,Y_test)\n",
    "print(\"testing accuracy: \",test_score)"
   ]
  },
  {
   "cell_type": "code",
   "execution_count": 846,
   "metadata": {},
   "outputs": [
    {
     "name": "stdout",
     "output_type": "stream",
     "text": [
      "[[413   0   0]\n",
      " [198   0   0]\n",
      " [ 37   0   0]]\n"
     ]
    }
   ],
   "source": [
    "cm = metrics.confusion_matrix(Y_test, pred)\n",
    "print(cm)"
   ]
  },
  {
   "cell_type": "code",
   "execution_count": 847,
   "metadata": {},
   "outputs": [
    {
     "data": {
      "text/plain": [
       "Text(0.5, 1, \"('Test Accuracy Score:', 0.6373456790123457)\")"
      ]
     },
     "execution_count": 847,
     "metadata": {},
     "output_type": "execute_result"
    },
    {
     "data": {
      "image/png": "[encoded data removed]",
      "text/plain": [
       "<Figure size 576x576 with 2 Axes>"
      ]
     },
     "metadata": {
      "needs_background": "light"
     },
     "output_type": "display_data"
    }
   ],
   "source": [
    "plt.figure(figsize=(8,8))\n",
    "x_axis_labels = ['Failure', 'Success', 'Unicorn'];\n",
    "y_axis_labels = ['Failure', 'Success', 'Unicorn'];\n",
    "sns.heatmap(cm, annot=True, fmt=\".3f\", linewidths=.5, square = True, cmap = 'Blues_r',xticklabels=x_axis_labels, yticklabels=y_axis_labels);\n",
    "\n",
    "plt.ylabel('Actual label')\n",
    "plt.xlabel('Predicted label')\n",
    "score = 'Test Accuracy Score:',test_score\n",
    "plt.title(score)"
   ]
  },
  {
   "cell_type": "code",
   "execution_count": 911,
   "metadata": {},
   "outputs": [
    {
     "name": "stdout",
     "output_type": "stream",
     "text": [
      "training accuracy:  0.9253731343283582\n",
      "testing accuracy:  0.6419753086419753\n"
     ]
    }
   ],
   "source": [
    "from sklearn.tree import DecisionTreeClassifier\n",
    "\n",
    "bagging = BaggingClassifier(n_estimators=45,max_features=44,bootstrap_features=True,random_state=14).fit(X_train, Y_train)\n",
    "pred = bagging.predict(X_test)\n",
    "\n",
    "train_score = bagging.score(X_train,Y_train)\n",
    "print(\"training accuracy: \",train_score)\n",
    "test_score = bagging.score(X_test,Y_test)\n",
    "print(\"testing accuracy: \",test_score)\n",
    "\n",
    "\n"
   ]
  },
  {
   "cell_type": "code",
   "execution_count": 912,
   "metadata": {},
   "outputs": [
    {
     "name": "stdout",
     "output_type": "stream",
     "text": [
      "[[358  52   3]\n",
      " [140  53   5]\n",
      " [ 23   9   5]]\n"
     ]
    }
   ],
   "source": [
    "cm = metrics.confusion_matrix(Y_test, pred)\n",
    "print(cm)"
   ]
  },
  {
   "cell_type": "code",
   "execution_count": 866,
   "metadata": {},
   "outputs": [
    {
     "data": {
      "text/plain": [
       "Text(0.5, 1, \"('Test Accuracy Score:', 0.6342592592592593)\")"
      ]
     },
     "execution_count": 866,
     "metadata": {},
     "output_type": "execute_result"
    },
    {
     "data": {
      "image/png": "[encoded data removed]",
      "text/plain": [
       "<Figure size 576x576 with 2 Axes>"
      ]
     },
     "metadata": {
      "needs_background": "light"
     },
     "output_type": "display_data"
    }
   ],
   "source": [
    "plt.figure(figsize=(8,8))\n",
    "x_axis_labels = ['Failure', 'Success', 'Unicorn'];\n",
    "y_axis_labels = ['Failure', 'Success', 'Unicorn'];\n",
    "sns.heatmap(cm, annot=True, fmt=\".3f\", linewidths=.5, square = True, cmap = 'Blues_r',xticklabels=x_axis_labels, yticklabels=y_axis_labels);\n",
    "\n",
    "plt.ylabel('Actual label')\n",
    "plt.xlabel('Predicted label')\n",
    "score = 'Test Accuracy Score:',test_score\n",
    "plt.title(score)"
   ]
  },
  {
   "cell_type": "markdown",
   "metadata": {},
   "source": [
    "<br>\n",
    "<br>\n",
    "<br>\n",
    "<br>\n",
    "<br>\n",
    "### Funding amount by investment round dataframe"
   ]
  },
  {
   "cell_type": "code",
   "execution_count": null,
   "metadata": {},
   "outputs": [],
   "source": [
    "#create df with company id, funding round type, funding round amount, and valuation pre that funding round\n",
    "dfx = rounds[rounds['object_id'].isin(list(Y['id']))]\n",
    "dfx = dfx[['object_id','funding_round_code','raised_amount_usd','participants','pre_money_valuation_usd']]\n",
    "dfx.columns = ['id','funding_round_code','funding_round_amount','participants','pre_money_valuation']\n",
    "dfx.reset_index(inplace=True, drop=True)"
   ]
  },
  {
   "cell_type": "code",
   "execution_count": null,
   "metadata": {},
   "outputs": [],
   "source": [
    "dfx['funding_round_code'].value_counts()"
   ]
  },
  {
   "cell_type": "code",
   "execution_count": null,
   "metadata": {},
   "outputs": [],
   "source": [
    "#merge predictors with funding rounds and funding per round\n",
    "Yfm = Yf.merge(dfx,left_on='company_id',right_on='id')\n",
    "Yfm = Yfm.drop(columns=['valuation','total_funding','funding_rounds','id'])\n",
    "Yfm = Yfm[['company_id','funding_round_code','most_common_degree_type','most_common_degree_subject','most_common_institution','category','state','participants','pre_money_valuation','funding_round_amount']]\n",
    "Yfm.columns = ['company_id','funding_round','most_common_degree_type','most_common_degree_subject','most_common_institution','category','state','participants','pre_money_valuation','funding_round_amount']\n",
    "Yfm"
   ]
  },
  {
   "cell_type": "markdown",
   "metadata": {},
   "source": [
    "### Split dataframe by funding round to predict funding round amount"
   ]
  },
  {
   "cell_type": "code",
   "execution_count": null,
   "metadata": {},
   "outputs": [],
   "source": [
    "Yfm['funding_round'].value_counts()"
   ]
  },
  {
   "cell_type": "code",
   "execution_count": null,
   "metadata": {},
   "outputs": [],
   "source": [
    "seed = Yfm[Yfm['funding_round_code']=='seed']\n",
    "seed"
   ]
  },
  {
   "cell_type": "markdown",
   "metadata": {},
   "source": [
    "### Initial visualization plots"
   ]
  },
  {
   "cell_type": "code",
   "execution_count": null,
   "metadata": {},
   "outputs": [],
   "source": [
    "dfba = dfb['category_code']\n",
    "clean_dfba = [x for x in dfba if str(x) != 'nan']\n",
    "\n",
    "plt.hist(clean_dfba)\n",
    "plt.xticks(rotation='vertical')\n",
    "plt.title('Company Category')\n",
    "plt.ylabel('Number of companies'), plt.xlabel('Category')\n",
    "plt.show()"
   ]
  },
  {
   "cell_type": "code",
   "execution_count": null,
   "metadata": {},
   "outputs": [],
   "source": []
  }
 ],
 "metadata": {
  "kernelspec": {
   "display_name": "Python 3",
   "language": "python",
   "name": "python3"
  },
  "language_info": {
   "codemirror_mode": {
    "name": "ipython",
    "version": 3
   },
   "file_extension": ".py",
   "mimetype": "text/x-python",
   "name": "python",
   "nbconvert_exporter": "python",
   "pygments_lexer": "ipython3",
   "version": "3.7.6"
  }
 },
 "nbformat": 4,
 "nbformat_minor": 2
}
